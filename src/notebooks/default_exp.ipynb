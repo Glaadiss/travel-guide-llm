{
 "cells": [
  {
   "cell_type": "code",
   "execution_count": 1,
   "metadata": {},
   "outputs": [],
   "source": [
    "%load_ext dotenv\n",
    "%dotenv"
   ]
  },
  {
   "cell_type": "code",
   "execution_count": 3,
   "metadata": {},
   "outputs": [
    {
     "name": "stdout",
     "output_type": "stream",
     "text": [
      "Embedding for 'Kot':\n",
      "[ 0.00134297 -0.0212902  -0.00746932  0.00052272 -0.00777178]\n",
      "\n",
      "Embedding for 'Pies':\n",
      "[ 0.01242397 -0.02552266  0.01039332 -0.02243451 -0.02068283]\n",
      "\n",
      "Embedding for 'Ala ma kota':\n",
      "[ 0.01203457  0.00885123 -0.01089582  0.00514381 -0.02821007]\n",
      "\n",
      "Cosine Similarities:\n",
      "'Kot' and 'Pies': 0.7849\n",
      "'Kot' and 'Ala ma kota': 0.8488\n",
      "'Pies' and 'Ala ma kota': 0.7670\n"
     ]
    }
   ],
   "source": [
    "from langchain_openai import OpenAIEmbeddings\n",
    "from sklearn.metrics.pairwise import cosine_similarity\n",
    "import numpy as np\n",
    "\n",
    "# Initialize the OpenAI Embeddings\n",
    "embeddings = OpenAIEmbeddings()\n",
    "\n",
    "# Words to embed\n",
    "words = [\"Kot\", \"Pies\", \"Ala ma kota\"]\n",
    "\n",
    "# Get embeddings\n",
    "embedded_words = embeddings.embed_documents(words)\n",
    "\n",
    "# Print the embeddings\n",
    "for word, embedding in zip(words, embedded_words):\n",
    "    print(f\"Embedding for '{word}':\")\n",
    "    print(np.array(embedding[:5]))  # Print first 5 dimensions for brevity\n",
    "    print()\n",
    "\n",
    "# Calculate cosine similarities\n",
    "kot_pies_similarity = cosine_similarity([embedded_words[0]], [embedded_words[1]])[0][0]\n",
    "kot_ala_similarity = cosine_similarity([embedded_words[0]], [embedded_words[2]])[0][0]\n",
    "pies_ala_similarity = cosine_similarity([embedded_words[1]], [embedded_words[2]])[0][0]\n",
    "\n",
    "print(\"Cosine Similarities:\")\n",
    "print(f\"'Kot' and 'Pies': {kot_pies_similarity:.4f}\")\n",
    "print(f\"'Kot' and 'Ala ma kota': {kot_ala_similarity:.4f}\")\n",
    "print(f\"'Pies' and 'Ala ma kota': {pies_ala_similarity:.4f}\")"
   ]
  },
  {
   "cell_type": "code",
   "execution_count": 4,
   "metadata": {},
   "outputs": [
    {
     "name": "stdout",
     "output_type": "stream",
     "text": [
      "Embedding for 'Plus':\n",
      "[-0.00524198 -0.00443823  0.00393413 -0.01707609 -0.03736717]\n",
      "\n",
      "Embedding for 'Minus':\n",
      "[ 0.00410642 -0.00662594  0.0210237  -0.00531738 -0.02197801]\n",
      "\n",
      "Cosine Similarities:\n",
      "'Plus' and 'Minus': 0.9133\n"
     ]
    }
   ],
   "source": [
    "# Words to embed\n",
    "words = [\"Plus\", \"Minus\",]\n",
    "\n",
    "# Get embeddings\n",
    "embedded_words = embeddings.embed_documents(words)\n",
    "\n",
    "# Print the embeddings\n",
    "for word, embedding in zip(words, embedded_words):\n",
    "    print(f\"Embedding for '{word}':\")\n",
    "    print(np.array(embedding[:5]))  # Print first 5 dimensions for brevity\n",
    "    print()\n",
    "\n",
    "# Calculate cosine similarities\n",
    "plus_minus_similarity = cosine_similarity([embedded_words[0]], [embedded_words[1]])[0][0]\n",
    "\n",
    "print(\"Cosine Similarities:\")\n",
    "print(f\"'Plus' and 'Minus': {plus_minus_similarity:.4f}\")\n"
   ]
  },
  {
   "cell_type": "code",
   "execution_count": 5,
   "metadata": {},
   "outputs": [
    {
     "name": "stdout",
     "output_type": "stream",
     "text": [
      "Embedding for 'Good':\n",
      "[-0.0028408  -0.01831893  0.01161022 -0.02305143 -0.03099526]\n",
      "\n",
      "Embedding for 'Bad':\n",
      "[-0.0189193   0.00116218  0.00905739 -0.01672632 -0.02748359]\n",
      "\n",
      "Cosine Similarities:\n",
      "'Good' and 'Bad': 0.9016\n"
     ]
    }
   ],
   "source": [
    "# Words to embed\n",
    "words = [\"Good\", \"Bad\",]\n",
    "\n",
    "# Get embeddings\n",
    "embedded_words = embeddings.embed_documents(words)\n",
    "\n",
    "# Print the embeddings\n",
    "for word, embedding in zip(words, embedded_words):\n",
    "    print(f\"Embedding for '{word}':\")\n",
    "    print(np.array(embedding[:5]))  # Print first 5 dimensions for brevity\n",
    "    print()\n",
    "\n",
    "# Calculate cosine similarities\n",
    "good_bad_similarity = cosine_similarity([embedded_words[0]], [embedded_words[1]])[0][0]\n",
    "\n",
    "print(\"Cosine Similarities:\")\n",
    "print(f\"'Good' and 'Bad': {good_bad_similarity:.4f}\")\n"
   ]
  },
  {
   "cell_type": "code",
   "execution_count": 8,
   "metadata": {},
   "outputs": [
    {
     "name": "stdout",
     "output_type": "stream",
     "text": [
      "Embedding for 'Informacje o borderach':\n",
      "[-0.00708543  0.01598296  0.00598709 -0.01093777 -0.02714236]\n",
      "\n",
      "Embedding for 'Wybrana rasa psów to Border Collie. Border Collie to jedna z najbardziej inteligentnych i pracowitych ras na świecie, często uznawana za najlepszą w pasieniu owiec. Pochodzą z Wielkiej Brytanii, gdzie przez wieki wykorzystywano je do pracy na farmach. Psy te są pełne energii i potrzebują dużo ruchu, co czyni je idealnymi towarzyszami dla aktywnych osób. Ich instynkt pracy oraz silne przywiązanie do opiekuna sprawiają, że są łatwe do szkolenia, choć wymagają konsekwentnego i doświadczonego właściciela. Border Collie to także rasa, która doskonale sprawdza się w różnych sportach kynologicznych, takich jak agility czy obedience. Pomimo ich przyjacielskiego charakteru, mogą być nieco nieśmiałe wobec obcych':\n",
      "[-0.00997437  0.01056408 -0.01771671 -0.03568707 -0.02479325]\n",
      "\n",
      "Embedding for 'Wybrana rasa to Siberian Husky. Husky syberyjski to rasa psa pierwotnie hodowana do ciągnięcia sań na dalekiej północy, znana ze swojej wytrzymałości i energii. Pochodzą z Syberii, gdzie przez wieki były nieodłącznymi towarzyszami rdzennych plemion, pomagając w transporcie i polowaniach. Husky wyróżnia się charakterystycznym, wilczym wyglądem, często ma niebieskie lub różnobarwne oczy oraz gęstą, podwójną sierść, która chroni go przed mrozem. Są to psy bardzo niezależne, ale jednocześnie przyjazne i towarzyskie. Potrzebują dużo ruchu, ponieważ ich naturalna energia wymaga intensywnej aktywności fizycznej. Husky to także rasa, która rzadko szczeka, ale wydaje charakterystyczne wycie, co jest pozostałością po ich wilczych przodkach.':\n",
      "[ 0.00130384  0.00653764 -0.01371074 -0.02772959 -0.03674171]\n",
      "\n",
      "Cosine Similarities:\n",
      "'Border' and 'Border': 0.8066\n",
      "'Border' and 'Husky': 0.7716\n"
     ]
    }
   ],
   "source": [
    "# Words to embed\n",
    "words = [\"Informacje o borderach\", \"Wybrana rasa psów to Border Collie. Border Collie to jedna z najbardziej inteligentnych i pracowitych ras na świecie, często uznawana za najlepszą w pasieniu owiec. Pochodzą z Wielkiej Brytanii, gdzie przez wieki wykorzystywano je do pracy na farmach. Psy te są pełne energii i potrzebują dużo ruchu, co czyni je idealnymi towarzyszami dla aktywnych osób. Ich instynkt pracy oraz silne przywiązanie do opiekuna sprawiają, że są łatwe do szkolenia, choć wymagają konsekwentnego i doświadczonego właściciela. Border Collie to także rasa, która doskonale sprawdza się w różnych sportach kynologicznych, takich jak agility czy obedience. Pomimo ich przyjacielskiego charakteru, mogą być nieco nieśmiałe wobec obcych\", \"Wybrana rasa to Siberian Husky. Husky syberyjski to rasa psa pierwotnie hodowana do ciągnięcia sań na dalekiej północy, znana ze swojej wytrzymałości i energii. Pochodzą z Syberii, gdzie przez wieki były nieodłącznymi towarzyszami rdzennych plemion, pomagając w transporcie i polowaniach. Husky wyróżnia się charakterystycznym, wilczym wyglądem, często ma niebieskie lub różnobarwne oczy oraz gęstą, podwójną sierść, która chroni go przed mrozem. Są to psy bardzo niezależne, ale jednocześnie przyjazne i towarzyskie. Potrzebują dużo ruchu, ponieważ ich naturalna energia wymaga intensywnej aktywności fizycznej. Husky to także rasa, która rzadko szczeka, ale wydaje charakterystyczne wycie, co jest pozostałością po ich wilczych przodkach.\"]\n",
    "\n",
    "# Get embeddings\n",
    "embedded_words = embeddings.embed_documents(words)\n",
    "\n",
    "# Print the embeddings\n",
    "for word, embedding in zip(words, embedded_words):\n",
    "    print(f\"Embedding for '{word}':\")\n",
    "    print(np.array(embedding[:5]))  # Print first 5 dimensions for brevity\n",
    "    print()\n",
    "\n",
    "# Calculate cosine similarities\n",
    "border_border_text_similarity = cosine_similarity([embedded_words[0]], [embedded_words[1]])[0][0]\n",
    "border_husky_text_similarity = cosine_similarity([embedded_words[0]], [embedded_words[2]])[0][0]\n",
    "\n",
    "print(\"Cosine Similarities:\")\n",
    "print(f\"'Border' and 'Border': {border_border_text_similarity:.4f}\")\n",
    "print(f\"'Border' and 'Husky': {border_husky_text_similarity:.4f}\")\n"
   ]
  }
 ],
 "metadata": {
  "kernelspec": {
   "display_name": ".venv",
   "language": "python",
   "name": "python3"
  },
  "language_info": {
   "codemirror_mode": {
    "name": "ipython",
    "version": 3
   },
   "file_extension": ".py",
   "mimetype": "text/x-python",
   "name": "python",
   "nbconvert_exporter": "python",
   "pygments_lexer": "ipython3",
   "version": "3.11.5"
  }
 },
 "nbformat": 4,
 "nbformat_minor": 2
}
